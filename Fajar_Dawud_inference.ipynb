{
  "nbformat": 4,
  "nbformat_minor": 0,
  "metadata": {
    "colab": {
      "provenance": []
    },
    "kernelspec": {
      "name": "python3",
      "display_name": "Python 3"
    },
    "language_info": {
      "name": "python"
    }
  },
  "cells": [
    {
      "cell_type": "code",
      "execution_count": 1,
      "metadata": {
        "id": "5zICiZnTu16i"
      },
      "outputs": [],
      "source": [
        "import cv2\n",
        "import numpy as np\n",
        "from keras.models import load_model\n",
        "from keras.models import Sequential\n",
        "from keras.layers import Conv2D, MaxPooling2D, Flatten, Dense, Dropout, BatchNormalization\n",
        "from keras.initializers import HeNormal, GlorotNormal"
      ]
    },
    {
      "cell_type": "code",
      "source": [
        "# === Load model ===\n",
        "model = load_model('cnn_.keras')"
      ],
      "metadata": {
        "colab": {
          "base_uri": "https://localhost:8080/"
        },
        "id": "LmpXdpj5vU2N",
        "outputId": "a9a9e222-2ccc-427b-ccf9-5b6ef1b7e474"
      },
      "execution_count": 4,
      "outputs": [
        {
          "output_type": "stream",
          "name": "stderr",
          "text": [
            "/usr/local/lib/python3.11/dist-packages/keras/src/saving/saving_lib.py:757: UserWarning: Skipping variable loading for optimizer 'rmsprop', because it has 20 variables whereas the saved optimizer has 38 variables. \n",
            "  saveable.load_own_variables(weights_store.get(inner_path))\n"
          ]
        }
      ]
    },
    {
      "cell_type": "code",
      "source": [
        "# === Label kelas (urut sesuai output model) ===\n",
        "labels = ['angry', 'disgust', 'fear', 'happy', 'sad', 'surprise', 'neutral']"
      ],
      "metadata": {
        "id": "gCZWF4zPvhWc"
      },
      "execution_count": 5,
      "outputs": []
    },
    {
      "cell_type": "code",
      "source": [
        "# === Load dan preprocessing gambar ===\n",
        "def load_image(image_path):\n",
        "    img = cv2.imread(image_path, cv2.IMREAD_GRAYSCALE)     # load sebagai grayscale\n",
        "    img = cv2.resize(img, (128, 128))                      # resize ke ukuran input model\n",
        "    img = img / 255.0                                      # normalisasi [0,1]\n",
        "    img = np.expand_dims(img, axis=-1)                     # tambah channel axis (128,128,1)\n",
        "    img = np.expand_dims(img, axis=0)                      # tambah batch axis (1,128,128,1)\n",
        "    return img\n"
      ],
      "metadata": {
        "id": "a87VyZJEvZVC"
      },
      "execution_count": 6,
      "outputs": []
    },
    {
      "cell_type": "code",
      "source": [
        "# === Fungsi prediksi ===\n",
        "def predict_image(image_path):\n",
        "    img = load_image(image_path)\n",
        "    prediction = model.predict(img)\n",
        "    predicted_class = np.argmax(prediction)\n",
        "    predicted_label = labels[predicted_class]\n",
        "\n",
        "    print(f\"Predicted class index: {predicted_class}\")\n",
        "    print(f\"Predicted label: {predicted_label}\")\n",
        "    print(f\"Confidence: {prediction[0][predicted_class]:.4f}\")\n"
      ],
      "metadata": {
        "id": "T7TR5lt-vcVH"
      },
      "execution_count": 7,
      "outputs": []
    },
    {
      "cell_type": "code",
      "source": [
        "# === Contoh pemanggilan ===\n",
        "predict_image('foto.jpg')  # Ganti dengan path gambar kamu\n"
      ],
      "metadata": {
        "colab": {
          "base_uri": "https://localhost:8080/"
        },
        "id": "NcUZJxQBvkRl",
        "outputId": "32826e92-e0c8-4f41-ecf9-dd8397ec105c"
      },
      "execution_count": 8,
      "outputs": [
        {
          "output_type": "stream",
          "name": "stdout",
          "text": [
            "\u001b[1m1/1\u001b[0m \u001b[32m━━━━━━━━━━━━━━━━━━━━\u001b[0m\u001b[37m\u001b[0m \u001b[1m1s\u001b[0m 515ms/step\n",
            "Predicted class index: 3\n",
            "Predicted label: happy\n",
            "Confidence: 0.2493\n"
          ]
        }
      ]
    }
  ]
}